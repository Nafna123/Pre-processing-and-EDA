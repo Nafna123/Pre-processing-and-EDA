{
 "cells": [
  {
   "cell_type": "markdown",
   "id": "95b158c5-d608-47a1-8099-6d1051d8adec",
   "metadata": {},
   "source": [
    "# Part A: Data Preprocessing"
   ]
  },
  {
   "cell_type": "markdown",
   "id": "985b3952-ea74-40b1-84f2-1cac5125b94b",
   "metadata": {},
   "source": [
    "## 1. Identify and handle missing values"
   ]
  },
  {
   "cell_type": "code",
   "execution_count": 1,
   "id": "69ff8b2d-7233-4244-b0a4-7ecb089bbee8",
   "metadata": {},
   "outputs": [],
   "source": [
    "import numpy as np\n",
    "import pandas as pd\n",
    "import matplotlib.pyplot as plt\n",
    "import seaborn as sns"
   ]
  },
  {
   "cell_type": "code",
   "execution_count": 2,
   "id": "51c872b1-cfdd-488a-9d30-1182ab319c2d",
   "metadata": {},
   "outputs": [
    {
     "data": {
      "text/html": [
       "<div>\n",
       "<style scoped>\n",
       "    .dataframe tbody tr th:only-of-type {\n",
       "        vertical-align: middle;\n",
       "    }\n",
       "\n",
       "    .dataframe tbody tr th {\n",
       "        vertical-align: top;\n",
       "    }\n",
       "\n",
       "    .dataframe thead th {\n",
       "        text-align: right;\n",
       "    }\n",
       "</style>\n",
       "<table border=\"1\" class=\"dataframe\">\n",
       "  <thead>\n",
       "    <tr style=\"text-align: right;\">\n",
       "      <th></th>\n",
       "      <th>Customer_ID</th>\n",
       "      <th>Age</th>\n",
       "      <th>Gender</th>\n",
       "      <th>City</th>\n",
       "      <th>Income</th>\n",
       "      <th>Customer_Since</th>\n",
       "      <th>Spending_Score</th>\n",
       "    </tr>\n",
       "  </thead>\n",
       "  <tbody>\n",
       "    <tr>\n",
       "      <th>0</th>\n",
       "      <td>CUST1000</td>\n",
       "      <td>68</td>\n",
       "      <td>Unknown</td>\n",
       "      <td>new york</td>\n",
       "      <td>$93,792</td>\n",
       "      <td>2022-02-16</td>\n",
       "      <td>79.0</td>\n",
       "    </tr>\n",
       "    <tr>\n",
       "      <th>1</th>\n",
       "      <td>CUST1001</td>\n",
       "      <td>43</td>\n",
       "      <td>MALE</td>\n",
       "      <td>Los Angeles</td>\n",
       "      <td>$138,681</td>\n",
       "      <td>23/09/2022</td>\n",
       "      <td>74.0</td>\n",
       "    </tr>\n",
       "    <tr>\n",
       "      <th>2</th>\n",
       "      <td>CUST1002</td>\n",
       "      <td>73</td>\n",
       "      <td>MALE</td>\n",
       "      <td>Huston</td>\n",
       "      <td>$30,858</td>\n",
       "      <td>30/07/2022</td>\n",
       "      <td>32.0</td>\n",
       "    </tr>\n",
       "    <tr>\n",
       "      <th>3</th>\n",
       "      <td>CUST1003</td>\n",
       "      <td>25</td>\n",
       "      <td>FEMALE</td>\n",
       "      <td>new york</td>\n",
       "      <td>$138,103</td>\n",
       "      <td>2022-05-02</td>\n",
       "      <td>36.0</td>\n",
       "    </tr>\n",
       "    <tr>\n",
       "      <th>4</th>\n",
       "      <td>CUST1004</td>\n",
       "      <td>72</td>\n",
       "      <td>FeMale</td>\n",
       "      <td>Unknown</td>\n",
       "      <td>$103,229</td>\n",
       "      <td>2022-08-30</td>\n",
       "      <td>83.0</td>\n",
       "    </tr>\n",
       "  </tbody>\n",
       "</table>\n",
       "</div>"
      ],
      "text/plain": [
       "  Customer_ID  Age   Gender         City    Income Customer_Since  \\\n",
       "0    CUST1000   68  Unknown     new york   $93,792     2022-02-16   \n",
       "1    CUST1001   43     MALE  Los Angeles  $138,681     23/09/2022   \n",
       "2    CUST1002   73     MALE       Huston   $30,858     30/07/2022   \n",
       "3    CUST1003   25   FEMALE     new york  $138,103     2022-05-02   \n",
       "4    CUST1004   72   FeMale      Unknown  $103,229     2022-08-30   \n",
       "\n",
       "   Spending_Score  \n",
       "0            79.0  \n",
       "1            74.0  \n",
       "2            32.0  \n",
       "3            36.0  \n",
       "4            83.0  "
      ]
     },
     "execution_count": 2,
     "metadata": {},
     "output_type": "execute_result"
    }
   ],
   "source": [
    "data = pd.read_csv(\"C:\\\\Users\\\\nafna\\\\Downloads\\\\customer_raw_data_1500.csv\") #read the data\n",
    "data.head()"
   ]
  },
  {
   "cell_type": "code",
   "execution_count": 3,
   "id": "6527ad04-f61f-41d3-9a41-79ef36c1bc9d",
   "metadata": {},
   "outputs": [
    {
     "name": "stdout",
     "output_type": "stream",
     "text": [
      "<class 'pandas.core.frame.DataFrame'>\n",
      "RangeIndex: 1500 entries, 0 to 1499\n",
      "Data columns (total 7 columns):\n",
      " #   Column          Non-Null Count  Dtype  \n",
      "---  ------          --------------  -----  \n",
      " 0   Customer_ID     1500 non-null   object \n",
      " 1   Age             1500 non-null   int64  \n",
      " 2   Gender          1500 non-null   object \n",
      " 3   City            1500 non-null   object \n",
      " 4   Income          1370 non-null   object \n",
      " 5   Customer_Since  1500 non-null   object \n",
      " 6   Spending_Score  1482 non-null   float64\n",
      "dtypes: float64(1), int64(1), object(5)\n",
      "memory usage: 82.2+ KB\n"
     ]
    }
   ],
   "source": [
    "data.info() # data information "
   ]
  },
  {
   "cell_type": "code",
   "execution_count": 4,
   "id": "5d60c5f9-4111-4131-aa94-2faf42f017a6",
   "metadata": {},
   "outputs": [
    {
     "data": {
      "text/plain": [
       "Customer_ID        object\n",
       "Age                 int64\n",
       "Gender             object\n",
       "City               object\n",
       "Income             object\n",
       "Customer_Since     object\n",
       "Spending_Score    float64\n",
       "dtype: object"
      ]
     },
     "execution_count": 4,
     "metadata": {},
     "output_type": "execute_result"
    }
   ],
   "source": [
    "data.dtypes # display the data types"
   ]
  },
  {
   "cell_type": "code",
   "execution_count": 5,
   "id": "2e72ec4e-3182-4776-98a9-4e7bde48d439",
   "metadata": {},
   "outputs": [
    {
     "data": {
      "text/plain": [
       "Customer_ID         0\n",
       "Age                 0\n",
       "Gender              0\n",
       "City                0\n",
       "Income            130\n",
       "Customer_Since      0\n",
       "Spending_Score     18\n",
       "dtype: int64"
      ]
     },
     "execution_count": 5,
     "metadata": {},
     "output_type": "execute_result"
    }
   ],
   "source": [
    "data.isna().sum() # identify missing values"
   ]
  },
  {
   "cell_type": "code",
   "execution_count": 6,
   "id": "7e6957de-25fa-40bb-9129-6235fb85a42e",
   "metadata": {},
   "outputs": [],
   "source": [
    "import warnings\n",
    "warnings.filterwarnings(\"ignore\")"
   ]
  },
  {
   "cell_type": "code",
   "execution_count": 7,
   "id": "c9b5016e-b303-4de9-acd7-485d0c2890fc",
   "metadata": {},
   "outputs": [],
   "source": [
    "data['Income'] = data['Income'].replace({r'\\$': '', ',': ''}, regex=True)\n",
    "data['Income'] = pd.to_numeric(data['Income'], errors='coerce')"
   ]
  },
  {
   "cell_type": "code",
   "execution_count": 8,
   "id": "be8bd6b2-7115-4f04-9e1c-18127a39fe6c",
   "metadata": {},
   "outputs": [],
   "source": [
    "data['Income'].fillna(data['Income'].mean(), inplace=True)"
   ]
  },
  {
   "cell_type": "code",
   "execution_count": 9,
   "id": "34eb4889-2fea-4fec-ae43-6ff971f8b7d4",
   "metadata": {},
   "outputs": [],
   "source": [
    "data['Spending_Score'].fillna(data['Spending_Score'].mean(),inplace=True) #filling missing data of numerical column with median"
   ]
  },
  {
   "cell_type": "code",
   "execution_count": 10,
   "id": "357b1435-323b-417f-934f-95ad8d353d5b",
   "metadata": {},
   "outputs": [],
   "source": [
    "data['Income']=data['Income'].fillna(data['Income'].mode()[0])  #filling missing data of categorical column with mode"
   ]
  },
  {
   "cell_type": "code",
   "execution_count": 11,
   "id": "513fbd44-c529-4f69-9ddd-7b8cf2bf1e64",
   "metadata": {},
   "outputs": [
    {
     "data": {
      "text/html": [
       "<div>\n",
       "<style scoped>\n",
       "    .dataframe tbody tr th:only-of-type {\n",
       "        vertical-align: middle;\n",
       "    }\n",
       "\n",
       "    .dataframe tbody tr th {\n",
       "        vertical-align: top;\n",
       "    }\n",
       "\n",
       "    .dataframe thead th {\n",
       "        text-align: right;\n",
       "    }\n",
       "</style>\n",
       "<table border=\"1\" class=\"dataframe\">\n",
       "  <thead>\n",
       "    <tr style=\"text-align: right;\">\n",
       "      <th></th>\n",
       "      <th>Customer_ID</th>\n",
       "      <th>Age</th>\n",
       "      <th>Gender</th>\n",
       "      <th>City</th>\n",
       "      <th>Income</th>\n",
       "      <th>Customer_Since</th>\n",
       "      <th>Spending_Score</th>\n",
       "    </tr>\n",
       "  </thead>\n",
       "  <tbody>\n",
       "    <tr>\n",
       "      <th>0</th>\n",
       "      <td>CUST1000</td>\n",
       "      <td>68</td>\n",
       "      <td>Unknown</td>\n",
       "      <td>new york</td>\n",
       "      <td>93792.0</td>\n",
       "      <td>2022-02-16</td>\n",
       "      <td>79.0</td>\n",
       "    </tr>\n",
       "    <tr>\n",
       "      <th>1</th>\n",
       "      <td>CUST1001</td>\n",
       "      <td>43</td>\n",
       "      <td>MALE</td>\n",
       "      <td>Los Angeles</td>\n",
       "      <td>138681.0</td>\n",
       "      <td>23/09/2022</td>\n",
       "      <td>74.0</td>\n",
       "    </tr>\n",
       "    <tr>\n",
       "      <th>2</th>\n",
       "      <td>CUST1002</td>\n",
       "      <td>73</td>\n",
       "      <td>MALE</td>\n",
       "      <td>Huston</td>\n",
       "      <td>30858.0</td>\n",
       "      <td>30/07/2022</td>\n",
       "      <td>32.0</td>\n",
       "    </tr>\n",
       "    <tr>\n",
       "      <th>3</th>\n",
       "      <td>CUST1003</td>\n",
       "      <td>25</td>\n",
       "      <td>FEMALE</td>\n",
       "      <td>new york</td>\n",
       "      <td>138103.0</td>\n",
       "      <td>2022-05-02</td>\n",
       "      <td>36.0</td>\n",
       "    </tr>\n",
       "    <tr>\n",
       "      <th>4</th>\n",
       "      <td>CUST1004</td>\n",
       "      <td>72</td>\n",
       "      <td>FeMale</td>\n",
       "      <td>Unknown</td>\n",
       "      <td>103229.0</td>\n",
       "      <td>2022-08-30</td>\n",
       "      <td>83.0</td>\n",
       "    </tr>\n",
       "  </tbody>\n",
       "</table>\n",
       "</div>"
      ],
      "text/plain": [
       "  Customer_ID  Age   Gender         City    Income Customer_Since  \\\n",
       "0    CUST1000   68  Unknown     new york   93792.0     2022-02-16   \n",
       "1    CUST1001   43     MALE  Los Angeles  138681.0     23/09/2022   \n",
       "2    CUST1002   73     MALE       Huston   30858.0     30/07/2022   \n",
       "3    CUST1003   25   FEMALE     new york  138103.0     2022-05-02   \n",
       "4    CUST1004   72   FeMale      Unknown  103229.0     2022-08-30   \n",
       "\n",
       "   Spending_Score  \n",
       "0            79.0  \n",
       "1            74.0  \n",
       "2            32.0  \n",
       "3            36.0  \n",
       "4            83.0  "
      ]
     },
     "execution_count": 11,
     "metadata": {},
     "output_type": "execute_result"
    }
   ],
   "source": [
    "data.head()"
   ]
  },
  {
   "cell_type": "code",
   "execution_count": 12,
   "id": "c3f4c274-bddc-44df-ae28-1d3805d0bb89",
   "metadata": {},
   "outputs": [
    {
     "data": {
      "text/plain": [
       "Customer_ID       0\n",
       "Age               0\n",
       "Gender            0\n",
       "City              0\n",
       "Income            0\n",
       "Customer_Since    0\n",
       "Spending_Score    0\n",
       "dtype: int64"
      ]
     },
     "execution_count": 12,
     "metadata": {},
     "output_type": "execute_result"
    }
   ],
   "source": [
    "data.isna().sum()"
   ]
  },
  {
   "cell_type": "markdown",
   "id": "66cc5c5c-96e8-4fe7-9612-d85bfe3e6ce0",
   "metadata": {},
   "source": [
    "Imputation ensures that we don't lose valuable data when only a few entries are missing.\n",
    "Removing rows might be appropriate if the number of missing values is too large and imputation could lead to incorrect conclusions."
   ]
  },
  {
   "cell_type": "markdown",
   "id": "b7489101-af9a-42fb-b5f5-e0dc449be4c5",
   "metadata": {},
   "source": [
    "## 2. Fix inconsistent data formats "
   ]
  },
  {
   "cell_type": "code",
   "execution_count": 13,
   "id": "f22f5d14-cd9e-4770-bcce-59d6cd1faa97",
   "metadata": {},
   "outputs": [],
   "source": [
    "# Remove $ and commas, and convert to float\n",
    "data['Income'] = data['Income'].astype(str)\n",
    "data['Income'] = data['Income'].str.replace('$', '').str.replace(',', '').astype(float)"
   ]
  },
  {
   "cell_type": "code",
   "execution_count": 14,
   "id": "7428efce-2ab7-4a07-9716-e3ecf3f6b511",
   "metadata": {},
   "outputs": [],
   "source": [
    "# Convert dates to YYYY-MM-DD format\n",
    "data['Customer_Since'] = pd.to_datetime(data['Customer_Since'], errors='coerce')"
   ]
  },
  {
   "cell_type": "code",
   "execution_count": 15,
   "id": "1bf7a595-c6db-4068-b69d-833884d118f7",
   "metadata": {},
   "outputs": [],
   "source": [
    "# Standardize gender\n",
    "data['Gender'] = data['Gender'].str.title()\n",
    "# Standardize city names\n",
    "data['City'] = data['City'].str.title()"
   ]
  },
  {
   "cell_type": "code",
   "execution_count": 16,
   "id": "b2578f44-7d38-4cbe-8f2e-e8f4f748f1aa",
   "metadata": {},
   "outputs": [
    {
     "name": "stdout",
     "output_type": "stream",
     "text": [
      "Customer_ID               object\n",
      "Age                        int64\n",
      "Gender                    object\n",
      "City                      object\n",
      "Income                   float64\n",
      "Customer_Since    datetime64[ns]\n",
      "Spending_Score           float64\n",
      "dtype: object\n"
     ]
    }
   ],
   "source": [
    "print(data.dtypes)"
   ]
  },
  {
   "cell_type": "markdown",
   "id": "f353147b-03f0-417e-b294-b4898922d8e1",
   "metadata": {},
   "source": [
    "## 3. Handle categorical data "
   ]
  },
  {
   "cell_type": "code",
   "execution_count": 17,
   "id": "3c9272ca-ace5-4c22-84a7-e4bafc3102bf",
   "metadata": {},
   "outputs": [],
   "source": [
    "# Standardize Gender\n",
    "gender_map = {\n",
    "    'male': 'Male',\n",
    "    'female': 'Female',\n",
    "    'm': 'Male',\n",
    "    'f': 'Female',\n",
    "    'male': 'Male',\n",
    "    'MALE': 'Male'\n",
    "}\n",
    "data['Gender'] = data['Gender'].str.lower().map(gender_map).fillna('Unknown')\n",
    "\n",
    "# Standardize City\n",
    "city_map = {\n",
    "    'ny': 'New York',\n",
    "    'new york': 'New York',\n",
    "    'la': 'Los Angeles'\n",
    "}\n",
    "data['City'] = data['City'].str.title().replace(city_map)\n",
    "\n",
    "# Convert city names to standardized versions\n",
    "data['City'] = (data['City'].str.lower()  # Convert all to lowercase first\n",
    "    .map(city_map)  # Apply standardization mapping\n",
    "    .fillna(data['City'].str.title()) ) # Title-case any unmapped values\n",
    "    \n",
    "# remove invalid values\n",
    "data = data[(data['Age'] > 0) & (data['Age'] < 120)]"
   ]
  },
  {
   "cell_type": "markdown",
   "id": "b5483fda-2690-4419-9ffb-ba2538723d4f",
   "metadata": {},
   "source": [
    "## 4. Remove duplicates and obvious data errors "
   ]
  },
  {
   "cell_type": "code",
   "execution_count": 18,
   "id": "7ad9b722-d400-49cf-9b0b-2c0fa1d3693d",
   "metadata": {},
   "outputs": [
    {
     "data": {
      "text/plain": [
       "np.int64(0)"
      ]
     },
     "execution_count": 18,
     "metadata": {},
     "output_type": "execute_result"
    }
   ],
   "source": [
    "duplicated = data.duplicated()\n",
    "duplicated.sum()"
   ]
  },
  {
   "cell_type": "code",
   "execution_count": 19,
   "id": "090a4031-286c-442c-85bf-f79a14fb26e5",
   "metadata": {},
   "outputs": [],
   "source": [
    "data = data[~duplicated]\n",
    "data = data[data['Income']>0]"
   ]
  },
  {
   "cell_type": "code",
   "execution_count": 20,
   "id": "abf7db41-0698-47d6-a3e2-cf6fbc6179db",
   "metadata": {},
   "outputs": [],
   "source": [
    "num_df=data.select_dtypes(include=\"number\")\n",
    "cat_df=data.select_dtypes(include=\"object_\")"
   ]
  },
  {
   "cell_type": "code",
   "execution_count": 21,
   "id": "dac36677-9b72-41a5-8dbf-79cdd9c1ff5b",
   "metadata": {},
   "outputs": [
    {
     "name": "stdout",
     "output_type": "stream",
     "text": [
      "Numerical columns are: \n",
      "['Age', 'Income', 'Spending_Score']\n",
      "Categorical columns are: \n",
      "['Customer_ID', 'Gender', 'City']\n"
     ]
    }
   ],
   "source": [
    "print(\"Numerical columns are: \")\n",
    "num_cols = num_df.columns.tolist()\n",
    "print(num_cols)\n",
    "print(\"Categorical columns are: \")\n",
    "cat_cols = cat_df.columns.tolist()\n",
    "print(cat_cols)"
   ]
  },
  {
   "cell_type": "code",
   "execution_count": 22,
   "id": "39089463-df80-4155-a880-d9ecc20e71b3",
   "metadata": {},
   "outputs": [
    {
     "data": {
      "image/png": "[encoded data removed]",
      "text/plain": [
       "<Figure size 640x480 with 2 Axes>"
      ]
     },
     "metadata": {},
     "output_type": "display_data"
    }
   ],
   "source": [
    "sns.heatmap(num_df.corr(),annot=False,cmap=\"coolwarm\")\n",
    "plt.show()"
   ]
  },
  {
   "cell_type": "markdown",
   "id": "087c9025-9466-4fab-9c24-13fdba5d632d",
   "metadata": {},
   "source": [
    "### List how many duplicates or errors you found and how you fixed them. \n",
    "### There are no duplicate rows and columns in the data"
   ]
  },
  {
   "cell_type": "markdown",
   "id": "a07bb303-4715-4c93-a7b8-955876c48de9",
   "metadata": {},
   "source": [
    "# Part B: Exploratory Data Analysis  "
   ]
  },
  {
   "cell_type": "markdown",
   "id": "d485517e-f787-4f85-8b97-3250eb5fccda",
   "metadata": {},
   "source": [
    "## 1. Summarize the dataset "
   ]
  },
  {
   "cell_type": "markdown",
   "id": "fb3d539d-6931-44da-9dd8-a6858c3e1278",
   "metadata": {},
   "source": [
    "### Mean, median, and mode of age and income. "
   ]
  },
  {
   "cell_type": "code",
   "execution_count": 23,
   "id": "cfd159e8-eb55-4e1f-a1e9-e4f1f008e643",
   "metadata": {},
   "outputs": [
    {
     "name": "stdout",
     "output_type": "stream",
     "text": [
      "Mean of Age:  52.80096418732782\n",
      "Median of Age:  53.0\n",
      "Mode of Age:  25\n"
     ]
    }
   ],
   "source": [
    "mean_age = data['Age'].mean()\n",
    "median_age = data['Age'].median()\n",
    "mode_age = data['Age'].mode()[0]\n",
    "\n",
    "print(\"Mean of Age: \",mean_age)\n",
    "print(\"Median of Age: \",median_age)\n",
    "print(\"Mode of Age: \",mode_age)"
   ]
  },
  {
   "cell_type": "code",
   "execution_count": 24,
   "id": "3c221590-829e-4a48-94f3-cd36b6102eb0",
   "metadata": {},
   "outputs": [
    {
     "name": "stdout",
     "output_type": "stream",
     "text": [
      "Mean of Income:  85116.79500311677\n",
      "Median of Income:  85126.78394160584\n",
      "Mode of Income:  85126.78394160584\n"
     ]
    }
   ],
   "source": [
    "mean_income = data['Income'].mean()\n",
    "median_income = data['Income'].median()\n",
    "mode_income = data['Income'].mode()[0]\n",
    "\n",
    "\n",
    "print(\"Mean of Income: \",mean_income)\n",
    "print(\"Median of Income: \",median_income)\n",
    "print(\"Mode of Income: \",mode_income)"
   ]
  },
  {
   "cell_type": "markdown",
   "id": "34f63436-1a8e-4d7e-82ab-5a20ba738c82",
   "metadata": {},
   "source": [
    "### Distribution of customers across cities and genders."
   ]
  },
  {
   "cell_type": "code",
   "execution_count": 25,
   "id": "e8500225-a570-4429-8f12-9e918b62de39",
   "metadata": {},
   "outputs": [
    {
     "data": {
      "text/plain": [
       "City\n",
       "Los Angeles    434\n",
       "New York       417\n",
       "Huston         210\n",
       "Houston        199\n",
       "Unknown        192\n",
       "Name: count, dtype: int64"
      ]
     },
     "execution_count": 25,
     "metadata": {},
     "output_type": "execute_result"
    }
   ],
   "source": [
    "data['City'].value_counts()"
   ]
  },
  {
   "cell_type": "code",
   "execution_count": 26,
   "id": "a9c7fa48-abb6-4cd2-bc06-cda8a7270aaf",
   "metadata": {},
   "outputs": [
    {
     "data": {
      "text/plain": [
       "Gender\n",
       "Female     601\n",
       "Unknown    431\n",
       "Male       420\n",
       "Name: count, dtype: int64"
      ]
     },
     "execution_count": 26,
     "metadata": {},
     "output_type": "execute_result"
    }
   ],
   "source": [
    "data['Gender'].value_counts()"
   ]
  },
  {
   "cell_type": "markdown",
   "id": "dd510505-e668-4e63-a1a3-ce9e09543fc3",
   "metadata": {},
   "source": [
    "## 2. Insights generation "
   ]
  },
  {
   "cell_type": "markdown",
   "id": "cd2bfe74-97ef-46cb-bac0-c12aada41b68",
   "metadata": {},
   "source": [
    "##### Pattern: 1 (Age Group and Spending):"
   ]
  },
  {
   "cell_type": "code",
   "execution_count": 27,
   "id": "1ffd3d27-c1e6-47c3-971f-248de7367c31",
   "metadata": {},
   "outputs": [
    {
     "data": {
      "text/plain": [
       "<Axes: xlabel='Age_Group'>"
      ]
     },
     "execution_count": 27,
     "metadata": {},
     "output_type": "execute_result"
    },
    {
     "data": {
      "image/png": "[encoded data removed]",
      "text/plain": [
       "<Figure size 640x480 with 1 Axes>"
      ]
     },
     "metadata": {},
     "output_type": "display_data"
    }
   ],
   "source": [
    "data['Age_Group'] = pd.cut(data['Age'], bins=[0, 25, 35, 50, 100], labels=['<25', '25-35', '35-50', '50+'])\n",
    "data.groupby('Age_Group')['Spending_Score'].mean().plot(kind='bar')"
   ]
  },
  {
   "cell_type": "markdown",
   "id": "21f70259-0d3f-46a1-84ce-07cd8985d5e2",
   "metadata": {},
   "source": [
    "##### Pattern: 2 (Gender and Spending):"
   ]
  },
  {
   "cell_type": "code",
   "execution_count": 28,
   "id": "ed60ad49-bea8-47f0-bcb7-571810a6eab2",
   "metadata": {},
   "outputs": [
    {
     "name": "stdout",
     "output_type": "stream",
     "text": [
      "Gender\n",
      "Female     49.274123\n",
      "Male       50.627081\n",
      "Unknown    49.207001\n",
      "Name: Spending_Score, dtype: float64\n"
     ]
    }
   ],
   "source": [
    "spending_by_gender = data.groupby('Gender')['Spending_Score'].mean()\n",
    "print(spending_by_gender)"
   ]
  },
  {
   "cell_type": "code",
   "execution_count": 29,
   "id": "21668ad1-5276-4a76-9ac6-4754ce687519",
   "metadata": {},
   "outputs": [
    {
     "data": {
      "text/plain": [
       "<Axes: xlabel='Gender'>"
      ]
     },
     "execution_count": 29,
     "metadata": {},
     "output_type": "execute_result"
    },
    {
     "data": {
      "image/png": "[encoded data removed]",
      "text/plain": [
       "<Figure size 640x480 with 1 Axes>"
      ]
     },
     "metadata": {},
     "output_type": "display_data"
    }
   ],
   "source": [
    "data.groupby('Gender')['Spending_Score'].mean().plot(kind='bar')"
   ]
  },
  {
   "cell_type": "markdown",
   "id": "d91c8347-6c91-41d8-9b9d-17dd93a3a912",
   "metadata": {},
   "source": [
    "## 3. Data issues you noticed "
   ]
  },
  {
   "cell_type": "markdown",
   "id": "9cbe821a-c7f2-4f71-a10b-edfab997fc67",
   "metadata": {},
   "source": [
    "###  Are there any red flags or things that don’t make sense even after cleaning? \n",
    "##### Any negative income/spending scores.\n",
    "##### Very recent Customer_Since dates with high spending.\n",
    "##### Gender marked as Other but only in 1 or 2 instances."
   ]
  },
  {
   "cell_type": "markdown",
   "id": "80d1cc88-624f-4d27-b234-8f46700ff6b6",
   "metadata": {},
   "source": [
    "## Saving Cleaned Data as Csv"
   ]
  },
  {
   "cell_type": "code",
   "execution_count": 30,
   "id": "d8b49777-b6de-4d66-9bc9-246089ef31e2",
   "metadata": {},
   "outputs": [],
   "source": [
    "cleaned_data = ('Pre processing and EDA.csv')\n",
    "data.to_csv(cleaned_data , index=False)"
   ]
  }
 ],
 "metadata": {
  "kernelspec": {
   "display_name": "Python 3 (ipykernel)",
   "language": "python",
   "name": "python3"
  },
  "language_info": {
   "codemirror_mode": {
    "name": "ipython",
    "version": 3
   },
   "file_extension": ".py",
   "mimetype": "text/x-python",
   "name": "python",
   "nbconvert_exporter": "python",
   "pygments_lexer": "ipython3",
   "version": "3.13.3"
  }
 },
 "nbformat": 4,
 "nbformat_minor": 5
}
