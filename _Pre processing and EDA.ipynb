{
 "cells": [
  {
   "cell_type": "markdown",
   "id": "95b158c5-d608-47a1-8099-6d1051d8adec",
   "metadata": {},
   "source": [
    "# Part A: Data Preprocessing"
   ]
  },
  {
   "cell_type": "markdown",
   "id": "985b3952-ea74-40b1-84f2-1cac5125b94b",
   "metadata": {},
   "source": [
    "## 1. Identify and handle missing values"
   ]
  },
  {
   "cell_type": "code",
   "execution_count": 1,
   "id": "69ff8b2d-7233-4244-b0a4-7ecb089bbee8",
   "metadata": {},
   "outputs": [],
   "source": [
    "import numpy as np\n",
    "import pandas as pd"
   ]
  },
  {
   "cell_type": "code",
   "execution_count": 2,
   "id": "51c872b1-cfdd-488a-9d30-1182ab319c2d",
   "metadata": {},
   "outputs": [
    {
     "data": {
      "text/html": [
       "<div>\n",
       "<style scoped>\n",
       "    .dataframe tbody tr th:only-of-type {\n",
       "        vertical-align: middle;\n",
       "    }\n",
       "\n",
       "    .dataframe tbody tr th {\n",
       "        vertical-align: top;\n",
       "    }\n",
       "\n",
       "    .dataframe thead th {\n",
       "        text-align: right;\n",
       "    }\n",
       "</style>\n",
       "<table border=\"1\" class=\"dataframe\">\n",
       "  <thead>\n",
       "    <tr style=\"text-align: right;\">\n",
       "      <th></th>\n",
       "      <th>Customer_ID</th>\n",
       "      <th>Age</th>\n",
       "      <th>Gender</th>\n",
       "      <th>City</th>\n",
       "      <th>Income</th>\n",
       "      <th>Customer_Since</th>\n",
       "      <th>Spending_Score</th>\n",
       "    </tr>\n",
       "  </thead>\n",
       "  <tbody>\n",
       "    <tr>\n",
       "      <th>0</th>\n",
       "      <td>CUST1000</td>\n",
       "      <td>68</td>\n",
       "      <td>Unknown</td>\n",
       "      <td>new york</td>\n",
       "      <td>$93,792</td>\n",
       "      <td>2022-02-16</td>\n",
       "      <td>79.0</td>\n",
       "    </tr>\n",
       "    <tr>\n",
       "      <th>1</th>\n",
       "      <td>CUST1001</td>\n",
       "      <td>43</td>\n",
       "      <td>MALE</td>\n",
       "      <td>Los Angeles</td>\n",
       "      <td>$138,681</td>\n",
       "      <td>23/09/2022</td>\n",
       "      <td>74.0</td>\n",
       "    </tr>\n",
       "    <tr>\n",
       "      <th>2</th>\n",
       "      <td>CUST1002</td>\n",
       "      <td>73</td>\n",
       "      <td>MALE</td>\n",
       "      <td>Huston</td>\n",
       "      <td>$30,858</td>\n",
       "      <td>30/07/2022</td>\n",
       "      <td>32.0</td>\n",
       "    </tr>\n",
       "    <tr>\n",
       "      <th>3</th>\n",
       "      <td>CUST1003</td>\n",
       "      <td>25</td>\n",
       "      <td>FEMALE</td>\n",
       "      <td>new york</td>\n",
       "      <td>$138,103</td>\n",
       "      <td>2022-05-02</td>\n",
       "      <td>36.0</td>\n",
       "    </tr>\n",
       "    <tr>\n",
       "      <th>4</th>\n",
       "      <td>CUST1004</td>\n",
       "      <td>72</td>\n",
       "      <td>FeMale</td>\n",
       "      <td>Unknown</td>\n",
       "      <td>$103,229</td>\n",
       "      <td>2022-08-30</td>\n",
       "      <td>83.0</td>\n",
       "    </tr>\n",
       "  </tbody>\n",
       "</table>\n",
       "</div>"
      ],
      "text/plain": [
       "  Customer_ID  Age   Gender         City    Income Customer_Since  \\\n",
       "0    CUST1000   68  Unknown     new york   $93,792     2022-02-16   \n",
       "1    CUST1001   43     MALE  Los Angeles  $138,681     23/09/2022   \n",
       "2    CUST1002   73     MALE       Huston   $30,858     30/07/2022   \n",
       "3    CUST1003   25   FEMALE     new york  $138,103     2022-05-02   \n",
       "4    CUST1004   72   FeMale      Unknown  $103,229     2022-08-30   \n",
       "\n",
       "   Spending_Score  \n",
       "0            79.0  \n",
       "1            74.0  \n",
       "2            32.0  \n",
       "3            36.0  \n",
       "4            83.0  "
      ]
     },
     "execution_count": 2,
     "metadata": {},
     "output_type": "execute_result"
    }
   ],
   "source": [
    "data = pd.read_csv(\"C:\\\\Users\\\\nafna\\\\Downloads\\\\customer_raw_data_1500.csv\")\n",
    "data.head()"
   ]
  },
  {
   "cell_type": "code",
   "execution_count": 3,
   "id": "6527ad04-f61f-41d3-9a41-79ef36c1bc9d",
   "metadata": {},
   "outputs": [
    {
     "name": "stdout",
     "output_type": "stream",
     "text": [
      "<class 'pandas.core.frame.DataFrame'>\n",
      "RangeIndex: 1500 entries, 0 to 1499\n",
      "Data columns (total 7 columns):\n",
      " #   Column          Non-Null Count  Dtype  \n",
      "---  ------          --------------  -----  \n",
      " 0   Customer_ID     1500 non-null   object \n",
      " 1   Age             1500 non-null   int64  \n",
      " 2   Gender          1500 non-null   object \n",
      " 3   City            1500 non-null   object \n",
      " 4   Income          1370 non-null   object \n",
      " 5   Customer_Since  1500 non-null   object \n",
      " 6   Spending_Score  1482 non-null   float64\n",
      "dtypes: float64(1), int64(1), object(5)\n",
      "memory usage: 82.2+ KB\n"
     ]
    }
   ],
   "source": [
    "data.info()"
   ]
  },
  {
   "cell_type": "code",
   "execution_count": 4,
   "id": "5d60c5f9-4111-4131-aa94-2faf42f017a6",
   "metadata": {},
   "outputs": [
    {
     "data": {
      "text/plain": [
       "Customer_ID        object\n",
       "Age                 int64\n",
       "Gender             object\n",
       "City               object\n",
       "Income             object\n",
       "Customer_Since     object\n",
       "Spending_Score    float64\n",
       "dtype: object"
      ]
     },
     "execution_count": 4,
     "metadata": {},
     "output_type": "execute_result"
    }
   ],
   "source": [
    "data.dtypes"
   ]
  },
  {
   "cell_type": "code",
   "execution_count": 5,
   "id": "2e72ec4e-3182-4776-98a9-4e7bde48d439",
   "metadata": {},
   "outputs": [
    {
     "data": {
      "text/plain": [
       "Customer_ID         0\n",
       "Age                 0\n",
       "Gender              0\n",
       "City                0\n",
       "Income            130\n",
       "Customer_Since      0\n",
       "Spending_Score     18\n",
       "dtype: int64"
      ]
     },
     "execution_count": 5,
     "metadata": {},
     "output_type": "execute_result"
    }
   ],
   "source": [
    "data.isna().sum()"
   ]
  },
  {
   "cell_type": "code",
   "execution_count": 6,
   "id": "7e6957de-25fa-40bb-9129-6235fb85a42e",
   "metadata": {},
   "outputs": [],
   "source": [
    "import warnings\n",
    "warnings.filterwarnings(\"ignore\")"
   ]
  },
  {
   "cell_type": "code",
   "execution_count": 7,
   "id": "c9b5016e-b303-4de9-acd7-485d0c2890fc",
   "metadata": {},
   "outputs": [],
   "source": [
    "data['Income'] = data['Income'].replace({r'\\$': '', ',': ''}, regex=True)\n",
    "data['Income'] = pd.to_numeric(data['Income'], errors='coerce')"
   ]
  },
  {
   "cell_type": "code",
   "execution_count": 8,
   "id": "be8bd6b2-7115-4f04-9e1c-18127a39fe6c",
   "metadata": {},
   "outputs": [],
   "source": [
    "data['Income'].fillna(data['Income'].mean(), inplace=True)"
   ]
  },
  {
   "cell_type": "code",
   "execution_count": 9,
   "id": "34eb4889-2fea-4fec-ae43-6ff971f8b7d4",
   "metadata": {},
   "outputs": [],
   "source": [
    "data['Spending_Score'].fillna(data['Spending_Score'].mean(),inplace=True)"
   ]
  },
  {
   "cell_type": "code",
   "execution_count": 10,
   "id": "513fbd44-c529-4f69-9ddd-7b8cf2bf1e64",
   "metadata": {},
   "outputs": [
    {
     "data": {
      "text/html": [
       "<div>\n",
       "<style scoped>\n",
       "    .dataframe tbody tr th:only-of-type {\n",
       "        vertical-align: middle;\n",
       "    }\n",
       "\n",
       "    .dataframe tbody tr th {\n",
       "        vertical-align: top;\n",
       "    }\n",
       "\n",
       "    .dataframe thead th {\n",
       "        text-align: right;\n",
       "    }\n",
       "</style>\n",
       "<table border=\"1\" class=\"dataframe\">\n",
       "  <thead>\n",
       "    <tr style=\"text-align: right;\">\n",
       "      <th></th>\n",
       "      <th>Customer_ID</th>\n",
       "      <th>Age</th>\n",
       "      <th>Gender</th>\n",
       "      <th>City</th>\n",
       "      <th>Income</th>\n",
       "      <th>Customer_Since</th>\n",
       "      <th>Spending_Score</th>\n",
       "    </tr>\n",
       "  </thead>\n",
       "  <tbody>\n",
       "    <tr>\n",
       "      <th>0</th>\n",
       "      <td>CUST1000</td>\n",
       "      <td>68</td>\n",
       "      <td>Unknown</td>\n",
       "      <td>new york</td>\n",
       "      <td>93792.0</td>\n",
       "      <td>2022-02-16</td>\n",
       "      <td>79.0</td>\n",
       "    </tr>\n",
       "    <tr>\n",
       "      <th>1</th>\n",
       "      <td>CUST1001</td>\n",
       "      <td>43</td>\n",
       "      <td>MALE</td>\n",
       "      <td>Los Angeles</td>\n",
       "      <td>138681.0</td>\n",
       "      <td>23/09/2022</td>\n",
       "      <td>74.0</td>\n",
       "    </tr>\n",
       "    <tr>\n",
       "      <th>2</th>\n",
       "      <td>CUST1002</td>\n",
       "      <td>73</td>\n",
       "      <td>MALE</td>\n",
       "      <td>Huston</td>\n",
       "      <td>30858.0</td>\n",
       "      <td>30/07/2022</td>\n",
       "      <td>32.0</td>\n",
       "    </tr>\n",
       "    <tr>\n",
       "      <th>3</th>\n",
       "      <td>CUST1003</td>\n",
       "      <td>25</td>\n",
       "      <td>FEMALE</td>\n",
       "      <td>new york</td>\n",
       "      <td>138103.0</td>\n",
       "      <td>2022-05-02</td>\n",
       "      <td>36.0</td>\n",
       "    </tr>\n",
       "    <tr>\n",
       "      <th>4</th>\n",
       "      <td>CUST1004</td>\n",
       "      <td>72</td>\n",
       "      <td>FeMale</td>\n",
       "      <td>Unknown</td>\n",
       "      <td>103229.0</td>\n",
       "      <td>2022-08-30</td>\n",
       "      <td>83.0</td>\n",
       "    </tr>\n",
       "  </tbody>\n",
       "</table>\n",
       "</div>"
      ],
      "text/plain": [
       "  Customer_ID  Age   Gender         City    Income Customer_Since  \\\n",
       "0    CUST1000   68  Unknown     new york   93792.0     2022-02-16   \n",
       "1    CUST1001   43     MALE  Los Angeles  138681.0     23/09/2022   \n",
       "2    CUST1002   73     MALE       Huston   30858.0     30/07/2022   \n",
       "3    CUST1003   25   FEMALE     new york  138103.0     2022-05-02   \n",
       "4    CUST1004   72   FeMale      Unknown  103229.0     2022-08-30   \n",
       "\n",
       "   Spending_Score  \n",
       "0            79.0  \n",
       "1            74.0  \n",
       "2            32.0  \n",
       "3            36.0  \n",
       "4            83.0  "
      ]
     },
     "execution_count": 10,
     "metadata": {},
     "output_type": "execute_result"
    }
   ],
   "source": [
    "data.head()"
   ]
  },
  {
   "cell_type": "code",
   "execution_count": 11,
   "id": "c3f4c274-bddc-44df-ae28-1d3805d0bb89",
   "metadata": {},
   "outputs": [
    {
     "data": {
      "text/plain": [
       "Customer_ID       0\n",
       "Age               0\n",
       "Gender            0\n",
       "City              0\n",
       "Income            0\n",
       "Customer_Since    0\n",
       "Spending_Score    0\n",
       "dtype: int64"
      ]
     },
     "execution_count": 11,
     "metadata": {},
     "output_type": "execute_result"
    }
   ],
   "source": [
    "data.isna().sum()"
   ]
  },
  {
   "cell_type": "markdown",
   "id": "66cc5c5c-96e8-4fe7-9612-d85bfe3e6ce0",
   "metadata": {},
   "source": [
    "Imputation ensures that we don't lose valuable data when only a few entries are missing.\n",
    "Removing rows might be appropriate if the number of missing values is too large and imputation could lead to incorrect conclusions."
   ]
  },
  {
   "cell_type": "markdown",
   "id": "b7489101-af9a-42fb-b5f5-e0dc449be4c5",
   "metadata": {},
   "source": [
    "## 2. Fix inconsistent data formats "
   ]
  },
  {
   "cell_type": "code",
   "execution_count": 12,
   "id": "90e3b0b8-86eb-4d2b-913e-2fe0091968e0",
   "metadata": {},
   "outputs": [],
   "source": [
    "data['Customer_Since'] = pd.to_datetime(data['Customer_Since'], dayfirst=False, errors='coerce')"
   ]
  },
  {
   "cell_type": "code",
   "execution_count": 13,
   "id": "e300c485-2389-4328-bfb4-0ec21b6f2827",
   "metadata": {},
   "outputs": [],
   "source": [
    "data['Customer_Since'].mode()[0]\n",
    "data['Customer_Since'].fillna(data['Customer_Since'].mode()[0] , inplace=True)"
   ]
  },
  {
   "cell_type": "code",
   "execution_count": 14,
   "id": "9b7f6a4c-a924-416e-9b35-74f742aad9ac",
   "metadata": {},
   "outputs": [
    {
     "data": {
      "text/html": [
       "<div>\n",
       "<style scoped>\n",
       "    .dataframe tbody tr th:only-of-type {\n",
       "        vertical-align: middle;\n",
       "    }\n",
       "\n",
       "    .dataframe tbody tr th {\n",
       "        vertical-align: top;\n",
       "    }\n",
       "\n",
       "    .dataframe thead th {\n",
       "        text-align: right;\n",
       "    }\n",
       "</style>\n",
       "<table border=\"1\" class=\"dataframe\">\n",
       "  <thead>\n",
       "    <tr style=\"text-align: right;\">\n",
       "      <th></th>\n",
       "      <th>Customer_ID</th>\n",
       "      <th>Age</th>\n",
       "      <th>Gender</th>\n",
       "      <th>City</th>\n",
       "      <th>Income</th>\n",
       "      <th>Customer_Since</th>\n",
       "      <th>Spending_Score</th>\n",
       "    </tr>\n",
       "  </thead>\n",
       "  <tbody>\n",
       "    <tr>\n",
       "      <th>0</th>\n",
       "      <td>CUST1000</td>\n",
       "      <td>68</td>\n",
       "      <td>Unknown</td>\n",
       "      <td>new york</td>\n",
       "      <td>93792.0</td>\n",
       "      <td>2022-02-16</td>\n",
       "      <td>79.0</td>\n",
       "    </tr>\n",
       "    <tr>\n",
       "      <th>1</th>\n",
       "      <td>CUST1001</td>\n",
       "      <td>43</td>\n",
       "      <td>MALE</td>\n",
       "      <td>Los Angeles</td>\n",
       "      <td>138681.0</td>\n",
       "      <td>2022-12-20</td>\n",
       "      <td>74.0</td>\n",
       "    </tr>\n",
       "    <tr>\n",
       "      <th>2</th>\n",
       "      <td>CUST1002</td>\n",
       "      <td>73</td>\n",
       "      <td>MALE</td>\n",
       "      <td>Huston</td>\n",
       "      <td>30858.0</td>\n",
       "      <td>2022-12-20</td>\n",
       "      <td>32.0</td>\n",
       "    </tr>\n",
       "    <tr>\n",
       "      <th>3</th>\n",
       "      <td>CUST1003</td>\n",
       "      <td>25</td>\n",
       "      <td>FEMALE</td>\n",
       "      <td>new york</td>\n",
       "      <td>138103.0</td>\n",
       "      <td>2022-05-02</td>\n",
       "      <td>36.0</td>\n",
       "    </tr>\n",
       "    <tr>\n",
       "      <th>4</th>\n",
       "      <td>CUST1004</td>\n",
       "      <td>72</td>\n",
       "      <td>FeMale</td>\n",
       "      <td>Unknown</td>\n",
       "      <td>103229.0</td>\n",
       "      <td>2022-08-30</td>\n",
       "      <td>83.0</td>\n",
       "    </tr>\n",
       "  </tbody>\n",
       "</table>\n",
       "</div>"
      ],
      "text/plain": [
       "  Customer_ID  Age   Gender         City    Income Customer_Since  \\\n",
       "0    CUST1000   68  Unknown     new york   93792.0     2022-02-16   \n",
       "1    CUST1001   43     MALE  Los Angeles  138681.0     2022-12-20   \n",
       "2    CUST1002   73     MALE       Huston   30858.0     2022-12-20   \n",
       "3    CUST1003   25   FEMALE     new york  138103.0     2022-05-02   \n",
       "4    CUST1004   72   FeMale      Unknown  103229.0     2022-08-30   \n",
       "\n",
       "   Spending_Score  \n",
       "0            79.0  \n",
       "1            74.0  \n",
       "2            32.0  \n",
       "3            36.0  \n",
       "4            83.0  "
      ]
     },
     "execution_count": 14,
     "metadata": {},
     "output_type": "execute_result"
    }
   ],
   "source": [
    "data.head()"
   ]
  },
  {
   "cell_type": "code",
   "execution_count": 15,
   "id": "b2578f44-7d38-4cbe-8f2e-e8f4f748f1aa",
   "metadata": {},
   "outputs": [
    {
     "name": "stdout",
     "output_type": "stream",
     "text": [
      "Customer_ID               object\n",
      "Age                        int64\n",
      "Gender                    object\n",
      "City                      object\n",
      "Income                   float64\n",
      "Customer_Since    datetime64[ns]\n",
      "Spending_Score           float64\n",
      "dtype: object\n"
     ]
    }
   ],
   "source": [
    "print(data.dtypes)"
   ]
  },
  {
   "cell_type": "markdown",
   "id": "f353147b-03f0-417e-b294-b4898922d8e1",
   "metadata": {},
   "source": [
    "## 3. Handle categorical data "
   ]
  },
  {
   "cell_type": "code",
   "execution_count": 16,
   "id": "e1805b00-d33a-459d-b7e5-434a7fb2b832",
   "metadata": {},
   "outputs": [],
   "source": [
    "data['Gender'] = data ['Gender'].str.capitalize() \n",
    "data['City'] = data['City'].str.title()"
   ]
  },
  {
   "cell_type": "code",
   "execution_count": 17,
   "id": "e6a1ec02-4939-4613-9a5b-bc972efb1083",
   "metadata": {},
   "outputs": [],
   "source": [
    "gender_rep = data.loc[data['Gender'] != 'Unknown', 'Gender'].mode()[0]\n",
    "data['Gender'] = data['Gender'].replace('Unknown', gender_rep)\n",
    "city_rep = data.loc[data['City'] != 'Unknown', 'City'].mode()[0]\n",
    "data['City'] = data['City'].replace('Unknown', city_rep)"
   ]
  },
  {
   "cell_type": "code",
   "execution_count": 18,
   "id": "55b4e855-381c-442e-8c8a-03432de5ad52",
   "metadata": {},
   "outputs": [
    {
     "data": {
      "text/html": [
       "<div>\n",
       "<style scoped>\n",
       "    .dataframe tbody tr th:only-of-type {\n",
       "        vertical-align: middle;\n",
       "    }\n",
       "\n",
       "    .dataframe tbody tr th {\n",
       "        vertical-align: top;\n",
       "    }\n",
       "\n",
       "    .dataframe thead th {\n",
       "        text-align: right;\n",
       "    }\n",
       "</style>\n",
       "<table border=\"1\" class=\"dataframe\">\n",
       "  <thead>\n",
       "    <tr style=\"text-align: right;\">\n",
       "      <th></th>\n",
       "      <th>Customer_ID</th>\n",
       "      <th>Age</th>\n",
       "      <th>Gender</th>\n",
       "      <th>City</th>\n",
       "      <th>Income</th>\n",
       "      <th>Customer_Since</th>\n",
       "      <th>Spending_Score</th>\n",
       "    </tr>\n",
       "  </thead>\n",
       "  <tbody>\n",
       "    <tr>\n",
       "      <th>0</th>\n",
       "      <td>CUST1000</td>\n",
       "      <td>68</td>\n",
       "      <td>Female</td>\n",
       "      <td>New York</td>\n",
       "      <td>93792.0</td>\n",
       "      <td>2022-02-16</td>\n",
       "      <td>79.0</td>\n",
       "    </tr>\n",
       "    <tr>\n",
       "      <th>1</th>\n",
       "      <td>CUST1001</td>\n",
       "      <td>43</td>\n",
       "      <td>Male</td>\n",
       "      <td>Los Angeles</td>\n",
       "      <td>138681.0</td>\n",
       "      <td>2022-12-20</td>\n",
       "      <td>74.0</td>\n",
       "    </tr>\n",
       "    <tr>\n",
       "      <th>2</th>\n",
       "      <td>CUST1002</td>\n",
       "      <td>73</td>\n",
       "      <td>Male</td>\n",
       "      <td>Huston</td>\n",
       "      <td>30858.0</td>\n",
       "      <td>2022-12-20</td>\n",
       "      <td>32.0</td>\n",
       "    </tr>\n",
       "    <tr>\n",
       "      <th>3</th>\n",
       "      <td>CUST1003</td>\n",
       "      <td>25</td>\n",
       "      <td>Female</td>\n",
       "      <td>New York</td>\n",
       "      <td>138103.0</td>\n",
       "      <td>2022-05-02</td>\n",
       "      <td>36.0</td>\n",
       "    </tr>\n",
       "    <tr>\n",
       "      <th>4</th>\n",
       "      <td>CUST1004</td>\n",
       "      <td>72</td>\n",
       "      <td>Female</td>\n",
       "      <td>Los Angeles</td>\n",
       "      <td>103229.0</td>\n",
       "      <td>2022-08-30</td>\n",
       "      <td>83.0</td>\n",
       "    </tr>\n",
       "  </tbody>\n",
       "</table>\n",
       "</div>"
      ],
      "text/plain": [
       "  Customer_ID  Age  Gender         City    Income Customer_Since  \\\n",
       "0    CUST1000   68  Female     New York   93792.0     2022-02-16   \n",
       "1    CUST1001   43    Male  Los Angeles  138681.0     2022-12-20   \n",
       "2    CUST1002   73    Male       Huston   30858.0     2022-12-20   \n",
       "3    CUST1003   25  Female     New York  138103.0     2022-05-02   \n",
       "4    CUST1004   72  Female  Los Angeles  103229.0     2022-08-30   \n",
       "\n",
       "   Spending_Score  \n",
       "0            79.0  \n",
       "1            74.0  \n",
       "2            32.0  \n",
       "3            36.0  \n",
       "4            83.0  "
      ]
     },
     "execution_count": 18,
     "metadata": {},
     "output_type": "execute_result"
    }
   ],
   "source": [
    "data.head()"
   ]
  },
  {
   "cell_type": "markdown",
   "id": "b5483fda-2690-4419-9ffb-ba2538723d4f",
   "metadata": {},
   "source": [
    "## 4. Remove duplicates and obvious data errors "
   ]
  },
  {
   "cell_type": "code",
   "execution_count": 19,
   "id": "7ad9b722-d400-49cf-9b0b-2c0fa1d3693d",
   "metadata": {},
   "outputs": [
    {
     "data": {
      "text/plain": [
       "np.int64(0)"
      ]
     },
     "execution_count": 19,
     "metadata": {},
     "output_type": "execute_result"
    }
   ],
   "source": [
    "duplicates = data.duplicated()\n",
    "duplicates.sum()"
   ]
  },
  {
   "cell_type": "code",
   "execution_count": 20,
   "id": "090a4031-286c-442c-85bf-f79a14fb26e5",
   "metadata": {},
   "outputs": [
    {
     "data": {
      "text/html": [
       "<div>\n",
       "<style scoped>\n",
       "    .dataframe tbody tr th:only-of-type {\n",
       "        vertical-align: middle;\n",
       "    }\n",
       "\n",
       "    .dataframe tbody tr th {\n",
       "        vertical-align: top;\n",
       "    }\n",
       "\n",
       "    .dataframe thead th {\n",
       "        text-align: right;\n",
       "    }\n",
       "</style>\n",
       "<table border=\"1\" class=\"dataframe\">\n",
       "  <thead>\n",
       "    <tr style=\"text-align: right;\">\n",
       "      <th></th>\n",
       "      <th>Customer_ID</th>\n",
       "      <th>Age</th>\n",
       "      <th>Gender</th>\n",
       "      <th>City</th>\n",
       "      <th>Income</th>\n",
       "      <th>Customer_Since</th>\n",
       "      <th>Spending_Score</th>\n",
       "    </tr>\n",
       "  </thead>\n",
       "  <tbody>\n",
       "    <tr>\n",
       "      <th>0</th>\n",
       "      <td>CUST1000</td>\n",
       "      <td>68</td>\n",
       "      <td>Female</td>\n",
       "      <td>New York</td>\n",
       "      <td>93792.0</td>\n",
       "      <td>2022-02-16</td>\n",
       "      <td>79.0</td>\n",
       "    </tr>\n",
       "    <tr>\n",
       "      <th>1</th>\n",
       "      <td>CUST1001</td>\n",
       "      <td>43</td>\n",
       "      <td>Male</td>\n",
       "      <td>Los Angeles</td>\n",
       "      <td>138681.0</td>\n",
       "      <td>2022-12-20</td>\n",
       "      <td>74.0</td>\n",
       "    </tr>\n",
       "    <tr>\n",
       "      <th>2</th>\n",
       "      <td>CUST1002</td>\n",
       "      <td>73</td>\n",
       "      <td>Male</td>\n",
       "      <td>Huston</td>\n",
       "      <td>30858.0</td>\n",
       "      <td>2022-12-20</td>\n",
       "      <td>32.0</td>\n",
       "    </tr>\n",
       "    <tr>\n",
       "      <th>3</th>\n",
       "      <td>CUST1003</td>\n",
       "      <td>25</td>\n",
       "      <td>Female</td>\n",
       "      <td>New York</td>\n",
       "      <td>138103.0</td>\n",
       "      <td>2022-05-02</td>\n",
       "      <td>36.0</td>\n",
       "    </tr>\n",
       "    <tr>\n",
       "      <th>4</th>\n",
       "      <td>CUST1004</td>\n",
       "      <td>72</td>\n",
       "      <td>Female</td>\n",
       "      <td>Los Angeles</td>\n",
       "      <td>103229.0</td>\n",
       "      <td>2022-08-30</td>\n",
       "      <td>83.0</td>\n",
       "    </tr>\n",
       "    <tr>\n",
       "      <th>...</th>\n",
       "      <td>...</td>\n",
       "      <td>...</td>\n",
       "      <td>...</td>\n",
       "      <td>...</td>\n",
       "      <td>...</td>\n",
       "      <td>...</td>\n",
       "      <td>...</td>\n",
       "    </tr>\n",
       "    <tr>\n",
       "      <th>1495</th>\n",
       "      <td>CUST2495</td>\n",
       "      <td>78</td>\n",
       "      <td>Female</td>\n",
       "      <td>New York</td>\n",
       "      <td>42001.0</td>\n",
       "      <td>2023-01-25</td>\n",
       "      <td>54.0</td>\n",
       "    </tr>\n",
       "    <tr>\n",
       "      <th>1496</th>\n",
       "      <td>CUST2496</td>\n",
       "      <td>33</td>\n",
       "      <td>Female</td>\n",
       "      <td>Houston</td>\n",
       "      <td>63038.0</td>\n",
       "      <td>2022-12-20</td>\n",
       "      <td>77.0</td>\n",
       "    </tr>\n",
       "    <tr>\n",
       "      <th>1497</th>\n",
       "      <td>CUST2497</td>\n",
       "      <td>45</td>\n",
       "      <td>Other</td>\n",
       "      <td>Huston</td>\n",
       "      <td>75659.0</td>\n",
       "      <td>2022-09-23</td>\n",
       "      <td>75.0</td>\n",
       "    </tr>\n",
       "    <tr>\n",
       "      <th>1498</th>\n",
       "      <td>CUST2498</td>\n",
       "      <td>84</td>\n",
       "      <td>Male</td>\n",
       "      <td>Los Angeles</td>\n",
       "      <td>66664.0</td>\n",
       "      <td>2023-09-03</td>\n",
       "      <td>39.0</td>\n",
       "    </tr>\n",
       "    <tr>\n",
       "      <th>1499</th>\n",
       "      <td>CUST2499</td>\n",
       "      <td>-5</td>\n",
       "      <td>Male</td>\n",
       "      <td>Houston</td>\n",
       "      <td>56435.0</td>\n",
       "      <td>2022-12-20</td>\n",
       "      <td>56.0</td>\n",
       "    </tr>\n",
       "  </tbody>\n",
       "</table>\n",
       "<p>1500 rows × 7 columns</p>\n",
       "</div>"
      ],
      "text/plain": [
       "     Customer_ID  Age  Gender         City    Income Customer_Since  \\\n",
       "0       CUST1000   68  Female     New York   93792.0     2022-02-16   \n",
       "1       CUST1001   43    Male  Los Angeles  138681.0     2022-12-20   \n",
       "2       CUST1002   73    Male       Huston   30858.0     2022-12-20   \n",
       "3       CUST1003   25  Female     New York  138103.0     2022-05-02   \n",
       "4       CUST1004   72  Female  Los Angeles  103229.0     2022-08-30   \n",
       "...          ...  ...     ...          ...       ...            ...   \n",
       "1495    CUST2495   78  Female     New York   42001.0     2023-01-25   \n",
       "1496    CUST2496   33  Female      Houston   63038.0     2022-12-20   \n",
       "1497    CUST2497   45   Other       Huston   75659.0     2022-09-23   \n",
       "1498    CUST2498   84    Male  Los Angeles   66664.0     2023-09-03   \n",
       "1499    CUST2499   -5    Male      Houston   56435.0     2022-12-20   \n",
       "\n",
       "      Spending_Score  \n",
       "0               79.0  \n",
       "1               74.0  \n",
       "2               32.0  \n",
       "3               36.0  \n",
       "4               83.0  \n",
       "...              ...  \n",
       "1495            54.0  \n",
       "1496            77.0  \n",
       "1497            75.0  \n",
       "1498            39.0  \n",
       "1499            56.0  \n",
       "\n",
       "[1500 rows x 7 columns]"
      ]
     },
     "execution_count": 20,
     "metadata": {},
     "output_type": "execute_result"
    }
   ],
   "source": [
    "data[~duplicates]\n",
    "data[data['Income']>0]"
   ]
  },
  {
   "cell_type": "markdown",
   "id": "a07bb303-4715-4c93-a7b8-955876c48de9",
   "metadata": {},
   "source": [
    "# Part B: Exploratory Data Analysis (30 mins) "
   ]
  },
  {
   "cell_type": "markdown",
   "id": "d485517e-f787-4f85-8b97-3250eb5fccda",
   "metadata": {},
   "source": [
    "## 1. Summarize the dataset "
   ]
  },
  {
   "cell_type": "markdown",
   "id": "fb3d539d-6931-44da-9dd8-a6858c3e1278",
   "metadata": {},
   "source": [
    "### Mean, median, and mode of age and income. "
   ]
  },
  {
   "cell_type": "code",
   "execution_count": 21,
   "id": "cfd159e8-eb55-4e1f-a1e9-e4f1f008e643",
   "metadata": {},
   "outputs": [
    {
     "name": "stdout",
     "output_type": "stream",
     "text": [
      "Mean of Age:  53.431333333333335\n",
      "Median of Age:  53.0\n",
      "Mode of Age:  25\n"
     ]
    }
   ],
   "source": [
    "mean_age = data['Age'].mean()\n",
    "median_age = data['Age'].median()\n",
    "mode_age = data['Age'].mode()[0]\n",
    "\n",
    "print(\"Mean of Age: \",mean_age)\n",
    "print(\"Median of Age: \",median_age)\n",
    "print(\"Mode of Age: \",mode_age)"
   ]
  },
  {
   "cell_type": "code",
   "execution_count": 22,
   "id": "3c221590-829e-4a48-94f3-cd36b6102eb0",
   "metadata": {},
   "outputs": [
    {
     "name": "stdout",
     "output_type": "stream",
     "text": [
      "Mean of Income:  85126.78394160584\n",
      "Median of Income:  85126.78394160584\n",
      "Mode of Income:  85126.78394160584\n"
     ]
    }
   ],
   "source": [
    "mean_income = data['Income'].mean()\n",
    "median_income = data['Income'].median()\n",
    "mode_income = data['Income'].mode()[0]\n",
    "\n",
    "\n",
    "print(\"Mean of Income: \",mean_income)\n",
    "print(\"Median of Income: \",median_income)\n",
    "print(\"Mode of Income: \",mode_income)"
   ]
  },
  {
   "cell_type": "markdown",
   "id": "34f63436-1a8e-4d7e-82ab-5a20ba738c82",
   "metadata": {},
   "source": [
    "### Distribution of customers across cities and genders."
   ]
  },
  {
   "cell_type": "code",
   "execution_count": 23,
   "id": "e8500225-a570-4429-8f12-9e918b62de39",
   "metadata": {},
   "outputs": [
    {
     "data": {
      "text/plain": [
       "City\n",
       "Los Angeles    648\n",
       "New York       427\n",
       "Huston         219\n",
       "Houston        206\n",
       "Name: count, dtype: int64"
      ]
     },
     "execution_count": 23,
     "metadata": {},
     "output_type": "execute_result"
    }
   ],
   "source": [
    "data['City'].value_counts()"
   ]
  },
  {
   "cell_type": "code",
   "execution_count": 24,
   "id": "a9c7fa48-abb6-4cd2-bc06-cda8a7270aaf",
   "metadata": {},
   "outputs": [
    {
     "data": {
      "text/plain": [
       "Gender\n",
       "Female    840\n",
       "Male      434\n",
       "Other     226\n",
       "Name: count, dtype: int64"
      ]
     },
     "execution_count": 24,
     "metadata": {},
     "output_type": "execute_result"
    }
   ],
   "source": [
    "data['Gender'].value_counts()"
   ]
  },
  {
   "cell_type": "markdown",
   "id": "dd510505-e668-4e63-a1a3-ce9e09543fc3",
   "metadata": {},
   "source": [
    "## 2. Insights generation "
   ]
  },
  {
   "cell_type": "code",
   "execution_count": 25,
   "id": "0e354c35-e983-4231-bf40-2d80e9a3e5c7",
   "metadata": {},
   "outputs": [],
   "source": [
    "# Pattern: 1 (Age Group and Spending):"
   ]
  },
  {
   "cell_type": "code",
   "execution_count": 26,
   "id": "b2cd702f-04ca-4662-88e2-21cf40e51591",
   "metadata": {},
   "outputs": [],
   "source": [
    "age_groups = pd.cut(data['Age'], \n",
    "                    bins=[0, 20, 30, 40, 50, 60, 100], \n",
    "                    labels=[\"0-20\", \"21-30\", \"31-40\", \"41-50\", \"51-60\", \"60+\"], \n",
    "                    include_lowest=True)"
   ]
  },
  {
   "cell_type": "code",
   "execution_count": 27,
   "id": "1ffd3d27-c1e6-47c3-971f-248de7367c31",
   "metadata": {},
   "outputs": [
    {
     "name": "stdout",
     "output_type": "stream",
     "text": [
      "Age\n",
      "-5      57.368477\n",
      " 16     51.939129\n",
      " 17     51.120000\n",
      " 18     38.214286\n",
      " 19     50.842105\n",
      "          ...    \n",
      " 86     46.809524\n",
      " 87     53.285714\n",
      " 88     49.990216\n",
      " 89     49.666667\n",
      " 150    54.291667\n",
      "Name: Spending_Score, Length: 76, dtype: float64\n"
     ]
    }
   ],
   "source": [
    "spending_by_age = data.groupby(\"Age\")[\"Spending_Score\"].mean()\n",
    "print(spending_by_age)"
   ]
  },
  {
   "cell_type": "code",
   "execution_count": 28,
   "id": "da0d2061-a525-42de-bd6b-bc9b6e94a19c",
   "metadata": {},
   "outputs": [],
   "source": [
    "# Pattern: 2 (Gender and Spending):"
   ]
  },
  {
   "cell_type": "code",
   "execution_count": 29,
   "id": "ed60ad49-bea8-47f0-bcb7-571810a6eab2",
   "metadata": {},
   "outputs": [
    {
     "name": "stdout",
     "output_type": "stream",
     "text": [
      "Gender\n",
      "Female    49.557660\n",
      "Male      51.025846\n",
      "Other     48.635090\n",
      "Name: Spending_Score, dtype: float64\n"
     ]
    }
   ],
   "source": [
    "spending_by_gender = data.groupby('Gender')['Spending_Score'].mean()\n",
    "print(spending_by_gender)"
   ]
  },
  {
   "cell_type": "code",
   "execution_count": 33,
   "id": "41277504-adfb-4337-a6f8-f67ab043a2cb",
   "metadata": {},
   "outputs": [],
   "source": [
    "## males spend more thanm females and other"
   ]
  },
  {
   "cell_type": "code",
   "execution_count": 32,
   "id": "4db66fea-4d3a-4e27-a804-b76c6a5a6453",
   "metadata": {},
   "outputs": [],
   "source": [
    "data.to_excel(\"cleaned_data.xlsx\", index=False)"
   ]
  }
 ],
 "metadata": {
  "kernelspec": {
   "display_name": "Python 3 (ipykernel)",
   "language": "python",
   "name": "python3"
  },
  "language_info": {
   "codemirror_mode": {
    "name": "ipython",
    "version": 3
   },
   "file_extension": ".py",
   "mimetype": "text/x-python",
   "name": "python",
   "nbconvert_exporter": "python",
   "pygments_lexer": "ipython3",
   "version": "3.13.3"
  }
 },
 "nbformat": 4,
 "nbformat_minor": 5
}
